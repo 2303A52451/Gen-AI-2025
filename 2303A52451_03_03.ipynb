{
  "nbformat": 4,
  "nbformat_minor": 0,
  "metadata": {
    "colab": {
      "provenance": [],
      "authorship_tag": "ABX9TyPFQbh9nHRmhzgIJgi+5S7f",
      "include_colab_link": true
    },
    "kernelspec": {
      "name": "python3",
      "display_name": "Python 3"
    },
    "language_info": {
      "name": "python"
    }
  },
  "cells": [
    {
      "cell_type": "markdown",
      "metadata": {
        "id": "view-in-github",
        "colab_type": "text"
      },
      "source": [
        "<a href=\"https://colab.research.google.com/github/2303A52451/Gen-AI-2025/blob/main/2303A52451_03_03.ipynb\" target=\"_parent\"><img src=\"https://colab.research.google.com/assets/colab-badge.svg\" alt=\"Open In Colab\"/></a>"
      ]
    },
    {
      "cell_type": "code",
      "source": [
        "def gradient_descent(f_prime, initial_x, learning_rate, tolerance, max_iterations):\n",
        "    x = initial_x\n",
        "    for i in range(max_iterations):\n",
        "        gradient = f_prime(x)\n",
        "        new_x = x - learning_rate * gradient\n",
        "        if abs(new_x - x) < tolerance:\n",
        "            return new_x, i + 1\n",
        "        x = new_x\n",
        "    return x, max_iterations\n",
        "def f_prime(x):\n",
        "    return 20*x*x*x + 6*x\n",
        "\n",
        "initial_x = 0\n",
        "learning_rate = 0.1\n",
        "tolerance = 1e-6\n",
        "max_iterations = 1000\n",
        "\n",
        "min_x, iterations = gradient_descent(f_prime, initial_x, learning_rate, tolerance, max_iterations)\n",
        "print(f\"The minimum value is at x = {min_x}, found in {iterations} iterations.\")"
      ],
      "metadata": {
        "colab": {
          "base_uri": "https://localhost:8080/"
        },
        "id": "8hQ7K2Np3-uT",
        "outputId": "d496c616-adf2-42bc-98e2-4776612cf96b"
      },
      "execution_count": 2,
      "outputs": [
        {
          "output_type": "stream",
          "name": "stdout",
          "text": [
            "The minimum value is at x = 0.0, found in 1 iterations.\n"
          ]
        }
      ]
    },
    {
      "cell_type": "code",
      "source": [
        "!pip install sympy\n",
        "\n",
        "import sympy as sp\n",
        "x, y = sp.symbols('x y')\n",
        "f = 3 * x**2 + 5 * sp.exp(-y) + 10\n",
        "f_prime_x = sp.diff(f, x)\n",
        "f_prime_y = sp.diff(f, y)\n",
        "print(f\"f'_x(x, y) = {f_prime_x}\")\n",
        "print(f\"f'_y(x, y) = {f_prime_y}\")\n",
        "def gradient_descent_2d(f_prime_x, f_prime_y, initial_x, initial_y, learning_rate, tolerance, max_iterations):\n",
        "    x_val, y_val = initial_x, initial_y\n",
        "    for i in range(max_iterations):\n",
        "        grad_x = f_prime_x.subs({x: x_val, y: y_val})\n",
        "        grad_y = f_prime_y.subs({x: x_val, y: y_val})\n",
        "        new_x = x_val - learning_rate * grad_x\n",
        "        new_y = y_val - learning_rate * grad_y\n",
        "        if abs(new_x - x_val) < tolerance and abs(new_y - y_val) < tolerance:\n",
        "            return (new_x, new_y), i + 1\n",
        "        x_val, y_val = new_x, new_y\n",
        "    return (x_val, y_val), max_iterations\n",
        "initial_x = 0\n",
        "initial_y = 0\n",
        "learning_rate = 0.1\n",
        "tolerance = 1e-6\n",
        "max_iterations = 1000\n",
        "min_values, iterations = gradient_descent_2d(f_prime_x, f_prime_y, initial_x, initial_y, learning_rate, tolerance, max_iterations)\n",
        "print(f\"The minimum value is at x = {min_values[0]}, y = {min_values[1]}, found in {iterations} iterations.\")"
      ],
      "metadata": {
        "colab": {
          "base_uri": "https://localhost:8080/"
        },
        "id": "Z2T1munq4IhL",
        "outputId": "b0b0eaa4-1985-43d9-99e8-2ae60e3dc1d6"
      },
      "execution_count": 3,
      "outputs": [
        {
          "output_type": "stream",
          "name": "stdout",
          "text": [
            "Requirement already satisfied: sympy in /usr/local/lib/python3.11/dist-packages (1.13.1)\n",
            "Requirement already satisfied: mpmath<1.4,>=1.1.0 in /usr/local/lib/python3.11/dist-packages (from sympy) (1.3.0)\n",
            "f'_x(x, y) = 6*x\n",
            "f'_y(x, y) = -5*exp(-y)\n",
            "The minimum value is at x = 0, y = 6.21980920407898, found in 1000 iterations.\n"
          ]
        }
      ]
    }
  ]
}